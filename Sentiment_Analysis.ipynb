{
 "cells": [
  {
   "cell_type": "markdown",
   "metadata": {},
   "source": [
    "# Portfolio-Exam Part I - Sentiment Analysis\n",
    "\n",
    "* Social Media Analytics - MADS-SMA\n",
    "* Valentin Werger"
   ]
  },
  {
   "cell_type": "code",
   "execution_count": 34,
   "metadata": {},
   "outputs": [],
   "source": [
    "# Compare different approaches\n",
    "# Train own word embedding\n",
    "# Use model trained on yelp for other data\n",
    "# Try out sentiments towards types of entities"
   ]
  },
  {
   "cell_type": "code",
   "execution_count": 1,
   "metadata": {},
   "outputs": [],
   "source": [
    "# Loading required ML packages and functions\n",
    "from sklearn.neighbors import KNeighborsClassifier\n",
    "from sklearn.ensemble import RandomForestClassifier\n",
    "from sklearn.svm import SVC\n",
    "from sklearn.preprocessing import LabelEncoder, StandardScaler, MinMaxScaler, FunctionTransformer\n",
    "from sklearn.metrics import roc_curve, RocCurveDisplay, confusion_matrix, ConfusionMatrixDisplay\n",
    "from sklearn.metrics import accuracy_score, balanced_accuracy_score, f1_score, roc_auc_score\n",
    "from sklearn.model_selection import StratifiedKFold, RepeatedStratifiedKFold, GridSearchCV, RandomizedSearchCV\n",
    "from sklearn.model_selection import cross_val_score, cross_validate\n",
    "from sklearn.model_selection import train_test_split\n",
    "from imblearn.over_sampling import RandomOverSampler, SMOTE\n",
    "from imblearn.pipeline import Pipeline\n",
    "from scipy.stats import uniform, randint\n",
    "from xgboost import XGBClassifier"
   ]
  },
  {
   "cell_type": "code",
   "execution_count": 2,
   "metadata": {},
   "outputs": [],
   "source": [
    "import numpy as np\n",
    "import pandas as pd\n",
    "import matplotlib.pyplot as plt\n",
    "import seaborn as sns\n",
    "import re\n",
    "import nltk\n",
    "from sklearn.feature_extraction.text import CountVectorizer, TfidfTransformer, TfidfVectorizer\n",
    "from textblob import TextBlob\n",
    "from vaderSentiment.vaderSentiment import SentimentIntensityAnalyzer"
   ]
  },
  {
   "cell_type": "code",
   "execution_count": 3,
   "metadata": {},
   "outputs": [],
   "source": [
    "# Read Hamburg Yelp reviews\n",
    "yelp = pd.read_csv(\"data/yelp_reviews_hamburg_en.csv\", parse_dates=[\"date\"])"
   ]
  },
  {
   "cell_type": "code",
   "execution_count": 4,
   "metadata": {},
   "outputs": [
    {
     "name": "stdout",
     "output_type": "stream",
     "text": [
      "<class 'pandas.core.frame.DataFrame'>\n",
      "RangeIndex: 3025 entries, 0 to 3024\n",
      "Data columns (total 4 columns):\n",
      " #   Column  Non-Null Count  Dtype         \n",
      "---  ------  --------------  -----         \n",
      " 0   url     3025 non-null   object        \n",
      " 1   stars   3025 non-null   float64       \n",
      " 2   text    3025 non-null   object        \n",
      " 3   date    3025 non-null   datetime64[ns]\n",
      "dtypes: datetime64[ns](1), float64(1), object(2)\n",
      "memory usage: 94.7+ KB\n"
     ]
    }
   ],
   "source": [
    "# Overview of the data\n",
    "yelp.info()"
   ]
  },
  {
   "cell_type": "code",
   "execution_count": 5,
   "metadata": {},
   "outputs": [
    {
     "data": {
      "text/html": [
       "<div>\n",
       "<style scoped>\n",
       "    .dataframe tbody tr th:only-of-type {\n",
       "        vertical-align: middle;\n",
       "    }\n",
       "\n",
       "    .dataframe tbody tr th {\n",
       "        vertical-align: top;\n",
       "    }\n",
       "\n",
       "    .dataframe thead th {\n",
       "        text-align: right;\n",
       "    }\n",
       "</style>\n",
       "<table border=\"1\" class=\"dataframe\">\n",
       "  <thead>\n",
       "    <tr style=\"text-align: right;\">\n",
       "      <th></th>\n",
       "      <th>url</th>\n",
       "      <th>stars</th>\n",
       "      <th>text</th>\n",
       "      <th>date</th>\n",
       "    </tr>\n",
       "  </thead>\n",
       "  <tbody>\n",
       "    <tr>\n",
       "      <th>0</th>\n",
       "      <td>https://www.yelp.com/biz/il-buco-hamburg</td>\n",
       "      <td>5.0</td>\n",
       "      <td>Fantastic little restaurant!Great staff and fo...</td>\n",
       "      <td>2017-08-12</td>\n",
       "    </tr>\n",
       "    <tr>\n",
       "      <th>1</th>\n",
       "      <td>https://www.yelp.com/biz/campus-suite-hamburg-7</td>\n",
       "      <td>4.0</td>\n",
       "      <td>We went there to grab some breakfast. They are...</td>\n",
       "      <td>2015-09-29</td>\n",
       "    </tr>\n",
       "    <tr>\n",
       "      <th>2</th>\n",
       "      <td>https://www.yelp.com/biz/campus-suite-hamburg-7</td>\n",
       "      <td>4.0</td>\n",
       "      <td>Good coffee,  sandwiches,  and yogurts close t...</td>\n",
       "      <td>2016-01-13</td>\n",
       "    </tr>\n",
       "    <tr>\n",
       "      <th>3</th>\n",
       "      <td>https://www.yelp.com/biz/campus-suite-hamburg-7</td>\n",
       "      <td>3.0</td>\n",
       "      <td>When XING handed out coupons for free coffee d...</td>\n",
       "      <td>2008-04-24</td>\n",
       "    </tr>\n",
       "    <tr>\n",
       "      <th>4</th>\n",
       "      <td>https://www.yelp.com/biz/campus-suite-hamburg-7</td>\n",
       "      <td>4.0</td>\n",
       "      <td>I love Campus Suite franchise. after the Balza...</td>\n",
       "      <td>2010-01-15</td>\n",
       "    </tr>\n",
       "  </tbody>\n",
       "</table>\n",
       "</div>"
      ],
      "text/plain": [
       "                                               url  stars  \\\n",
       "0         https://www.yelp.com/biz/il-buco-hamburg    5.0   \n",
       "1  https://www.yelp.com/biz/campus-suite-hamburg-7    4.0   \n",
       "2  https://www.yelp.com/biz/campus-suite-hamburg-7    4.0   \n",
       "3  https://www.yelp.com/biz/campus-suite-hamburg-7    3.0   \n",
       "4  https://www.yelp.com/biz/campus-suite-hamburg-7    4.0   \n",
       "\n",
       "                                                text       date  \n",
       "0  Fantastic little restaurant!Great staff and fo... 2017-08-12  \n",
       "1  We went there to grab some breakfast. They are... 2015-09-29  \n",
       "2  Good coffee,  sandwiches,  and yogurts close t... 2016-01-13  \n",
       "3  When XING handed out coupons for free coffee d... 2008-04-24  \n",
       "4  I love Campus Suite franchise. after the Balza... 2010-01-15  "
      ]
     },
     "execution_count": 5,
     "metadata": {},
     "output_type": "execute_result"
    }
   ],
   "source": [
    "# Show the top 5 rows\n",
    "yelp.head(5)"
   ]
  },
  {
   "cell_type": "code",
   "execution_count": 6,
   "metadata": {},
   "outputs": [],
   "source": [
    "# Extract name of the location from url\n",
    "yelp[\"name\"] = yelp.apply(lambda row: re.sub(\"https://www.yelp.com/biz/\", \"\", row[\"url\"]), axis=1)\n",
    "yelp = yelp.drop(columns=\"url\")"
   ]
  },
  {
   "cell_type": "code",
   "execution_count": 7,
   "metadata": {},
   "outputs": [
    {
     "data": {
      "text/plain": [
       "<AxesSubplot:ylabel='Count'>"
      ]
     },
     "execution_count": 7,
     "metadata": {},
     "output_type": "execute_result"
    },
    {
     "data": {
      "image/png": "[encoded data removed]",
      "text/plain": [
       "<Figure size 1080x576 with 1 Axes>"
      ]
     },
     "metadata": {},
     "output_type": "display_data"
    }
   ],
   "source": [
    "# Inspect length of review text\n",
    "text_length_distribution = np.array([len(text) for text in yelp.text])\n",
    "\n",
    "sns.set_theme(style=\"whitegrid\")\n",
    "plt.figure(figsize=[15,8])\n",
    "sns.histplot(data = text_length_distribution)\n",
    "\n",
    "# Problem: Maximum length of Bert is 512\n"
   ]
  },
  {
   "cell_type": "code",
   "execution_count": null,
   "metadata": {},
   "outputs": [],
   "source": [
    "# Sentiment Analyser class\n",
    "class SentimentAnalyser():\n",
    "\n",
    "    def __init__(self, data, target, normalize = True):\n",
    "        self.data = data\n",
    "        self.target = target\n",
    "        self.target_distribution = self.data[self.target].value_counts(normalize=True)\n",
    "\n",
    "        if normalize:\n",
    "            self.data[\"text\"] = self.normalize()\n",
    "\n",
    "    def __normalize_document(self, doc, tokenizer, stop_words):\n",
    "\n",
    "        doc = re.sub(r'@[\\w]+', '', doc)          # replace user mentions\n",
    "        doc = re.sub(r'http[\\S]+', 'URL', doc)    # replace URLs\n",
    "        doc = re.sub(r'[^\\w\\s]', '', doc)         # keep words and spaces\n",
    "        doc = doc.lower()\n",
    "        doc = doc.strip()\n",
    "        tokens = tokenizer.tokenize(doc)\n",
    "        filtered_tokens = [token for token in tokens if token not in stop_words]\n",
    "        doc = ' '.join(filtered_tokens)\n",
    "        return doc\n",
    "\n",
    "    def normalize(self):\n",
    "\n",
    "        stop_words = nltk.corpus.stopwords.words('english')\n",
    "        wpt = nltk.WordPunctTokenizer()\n",
    "\n",
    "        return self.data.apply(lambda x: self.__normalize_document(x, wpt, stop_words))\n",
    "\n",
    "    def naive_baseline(self):\n",
    "\n",
    "        self.data[\"naive_baseline_prediction\"] = np.random.choice(target_distribution.index.to_numpy(), size = len(yelp), replace = True, p = target_distribution.values)\n",
    "\n",
    "    def vader_sentiment(self):\n",
    "\n",
    "        vader = SentimentIntensityAnalyzer()\n",
    "        self.data['vader_scores'] = self.data.text.apply(lambda x: vader.polarity_scores(x))\n",
    "        self.data['vader_compound'] = self.data.vader_scores.apply(lambda x: x['compound'])\n",
    "        self.data['vader_prediction'] = self.data.vader_compound.apply(lambda x: 1 if x >= 0 else 0)\n",
    "        pd.crosstab(self.data[self.target], self.data.vader_polarity, normalize='all')\n",
    "\n",
    "    def textblob_sentiment(self):\n",
    "\n",
    "        self.data['textblob_score'] = self.data.text.apply(\n",
    "            lambda review: TextBlob(review).sentiment[0])\n",
    "        self.data['textblob_prediction'] = self.data.textblob_score.apply(lambda x: 1 if x >= 0 else 0)\n",
    "        pd.crosstab(self.data[self.target], self.data.textblob_pred, normalize='all')\n",
    "\n",
    "    def evaluate_classifier(self):\n",
    "\n",
    "        # Setting up the pipeline\n",
    "        pipeline = Pipeline([('wordcount', CountVectorizer()), ('tdif', TfidfTransformer()), ('scaler', StandardScaler()), ('oversampler', SMOTE()), ('estimator', model)])\n",
    "    \n",
    "    "
   ]
  },
  {
   "cell_type": "code",
   "execution_count": null,
   "metadata": {},
   "outputs": [],
   "source": [
    "def evaluate_classifier(name, model, params, features, target, iterations, cv_splits, cv_repeats):\n",
    "\n",
    "    # Setting up the pipeline\n",
    "    pipeline = Pipeline([('scaler', StandardScaler()), ('oversampler', SMOTE()), ('estimator', model)])\n",
    "\n",
    "    # Setting up the Cross validation\n",
    "    inner_cv = RepeatedStratifiedKFold(n_splits = cv_splits, n_repeats = cv_repeats, random_state = 33)\n",
    "    outer_cv = RepeatedStratifiedKFold(n_splits = cv_splits, n_repeats = cv_repeats, random_state = 33)\n",
    "\n",
    "    # Doing hyperparameter optimization\n",
    "    optimization = RandomizedSearchCV(\n",
    "        estimator = pipeline,\n",
    "        param_distributions = params,\n",
    "        scoring = ['accuracy', 'balanced_accuracy', 'f1', 'roc_auc'],\n",
    "        cv = inner_cv,\n",
    "        refit = 'roc_auc',\n",
    "        n_iter = iterations,\n",
    "        n_jobs = os.cpu_count() -1,\n",
    "        verbose = 10,\n",
    "        random_state = 33)\n",
    "\n",
    "    optimization.fit(features, target)\n",
    "\n",
    "    # Evaluating the best model on the outer cross validation\n",
    "    performance_estimation = cross_validate(\n",
    "        estimator = optimization,\n",
    "        X = features,\n",
    "        y = target,\n",
    "        scoring = ['accuracy', 'balanced_accuracy', 'f1', 'roc_auc'],\n",
    "        cv = outer_cv,\n",
    "        n_jobs = os.cpu_count() -1)\n",
    "\n",
    "    return(\n",
    "        {\n",
    "            'name': name,\n",
    "            'optimization_cv_results': pd.DataFrame(optimization.cv_results_),\n",
    "            'best_params': optimization.best_params_,\n",
    "            'best_model': optimization.best_estimator_,\n",
    "            'acc': performance_estimation['test_accuracy'],\n",
    "            'balanced_acc': performance_estimation['test_balanced_accuracy'],\n",
    "            'f1': performance_estimation['test_f1'],\n",
    "            'roc_auc': performance_estimation['test_roc_auc']\n",
    "        }\n",
    "    )"
   ]
  },
  {
   "cell_type": "code",
   "execution_count": null,
   "metadata": {},
   "outputs": [],
   "source": [
    "# Sentiment analysis on the document level\n",
    "\n",
    "# 1. Rule based\n",
    "    # Vader\n",
    "    # Text Blob\n",
    "# 2. ML based - Classification or Regression?\n",
    "    # own feature engineering plus defined models\n",
    "        # bag of words\n",
    "        # TD-IF\n",
    "        # word vectors\n",
    "    # Transformers"
   ]
  }
 ],
 "metadata": {
  "interpreter": {
   "hash": "2822d77ee51dbb640527abe329425380abdeab763840ac762f0d0bc769537fcd"
  },
  "kernelspec": {
   "display_name": "Python 3.9.7 ('sma')",
   "language": "python",
   "name": "python3"
  },
  "language_info": {
   "codemirror_mode": {
    "name": "ipython",
    "version": 3
   },
   "file_extension": ".py",
   "mimetype": "text/x-python",
   "name": "python",
   "nbconvert_exporter": "python",
   "pygments_lexer": "ipython3",
   "version": "3.9.7"
  },
  "orig_nbformat": 4
 },
 "nbformat": 4,
 "nbformat_minor": 2
}
